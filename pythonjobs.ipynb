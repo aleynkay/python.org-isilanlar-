{
 "cells": [
  {
   "cell_type": "code",
   "execution_count": null,
   "metadata": {},
   "outputs": [],
   "source": [
    "import requests\n",
    "from bs4 import BeautifulSoup\n",
    "import pandas as pd\n",
    "\n",
    "def cleanToCompanyName(jobname, jobcard):\n",
    "    fazlalik_kisim = jobname.strip()\n",
    "    companyname = jobcard.text.strip().replace(fazlalik_kisim, '')\n",
    "    companyname = companyname.replace(\"New\", \"\")\n",
    "    return (companyname.strip())\n",
    "\n",
    "def main():\n",
    "    headers = {\n",
    "            \"User-Agent\": \"Mozilla/5.0 (Windows NT 10.0; Win64; x64) AppleWebKit/537.36 (KHTML, like Gecko) Chrome/126.0.0.0 Safari/537.36\"\n",
    "    }\n",
    "    data = []\n",
    "\n",
    "    for i in range(1, 3):\n",
    "        URL = f\"https://www.python.org/jobs/?page={i}\"\n",
    "        page = requests.get(URL, headers=headers)\n",
    "        soup = BeautifulSoup(page.content, 'html.parser')\n",
    "        jobcards = soup.find_all('li')\n",
    "\n",
    "        for li in jobcards:\n",
    "            listing_company = li.find('h2', class_='listing-company')\n",
    "            listing_company_category = li.find('span', class_='listing-company-category')\n",
    "            listing_posted = li.find('span', class_ ='listing-posted')\n",
    "            if listing_company and listing_company_category and listing_posted:\n",
    "                jobname = listing_company.find('a').text.strip()\n",
    "                job = listing_company.find('span', class_='listing-company-name')\n",
    "                location= listing_company.find('span', class_= 'listing-location').text.strip()\n",
    "                companyname = cleanToCompanyName(jobname,job)\n",
    "                category = listing_company_category.find('a').text.strip()\n",
    "                jobposted = listing_posted.find('time').text.strip()\n",
    "                print(\"Job Name = \" + jobname)\n",
    "                print(\"Company Name = \" + companyname)\n",
    "                print(\"Job Category = \" + category)\n",
    "                print(\"Job Location = \" + location)\n",
    "                print(\"Posted Date = \" + (jobposted if jobposted else \"N/A\"))\n",
    "                print()\n",
    "                print(\"**********************************\")\n",
    "                print()\n",
    "                data.append({\"Job Name\": jobname, \"Company Name\": companyname, \"Job Category\": category, \"Job Location\": location, \"Posted Date\": jobposted})\n",
    "    df = pd.DataFrame(data)\n",
    "    df.to_excel(\"jobadverts.xlsx\", index=False)\n",
    "\n",
    "if __name__ == \"__main__\":\n",
    "    main()\n"
   ]
  }
 ],
 "metadata": {
  "kernelspec": {
   "display_name": "Python 3",
   "language": "python",
   "name": "python3"
  },
  "language_info": {
   "codemirror_mode": {
    "name": "ipython",
    "version": 3
   },
   "file_extension": ".py",
   "mimetype": "text/x-python",
   "name": "python",
   "nbconvert_exporter": "python",
   "pygments_lexer": "ipython3",
   "version": "3.12.4"
  }
 },
 "nbformat": 4,
 "nbformat_minor": 2
}
